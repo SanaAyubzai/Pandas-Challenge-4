#!/usr/bin/env python
# coding: utf-8

# # PyCity Schools Analysis
# 
# * As a whole, schools with higher budgets, did not yield better test results. By contrast, schools with higher spending 645-675 per student actually underperformed compared to schools with smaller budgets (585 per student).
# 
# * As a whole, smaller and medium sized schools dramatically out-performed large sized schools on passing math performances (89-91% passing vs 67%).
# 
# * As a whole, charter schools out-performed the public district schools across all metrics. However, more analysis will be required to glean if the effect is due to school practices or the fact that charter schools tend to serve smaller student populations per school. 
# ---

# In[83]:


# Dependencies and Setup
import pandas as pd
from pathlib import Path

# File to Load (Remember to Change These)
school_data_to_load = Path("Resources/schools_complete.csv")
student_data_to_load = Path("Resources/students_complete.csv")

# Read School and Student Data File and store into Pandas DataFrames
school_data = pd.read_csv(school_data_to_load)
student_data = pd.read_csv(student_data_to_load)

# Combine the data into a single dataset.  
school_data_complete = pd.merge(student_data, school_data, how="left", on=["school_name", "school_name"])
school_data_complete.head()


# ## District Summary

# In[84]:


# Calculate the total number of unique schools
school_count=len(school_data_complete["school_name"].unique())
school_count


# In[85]:


# Calculate the total number of students
student_count =school_data_complete["Student ID"].count()
student_count


# In[86]:


# Calculate the total budget
total_budget = school_data["budget"].sum()
total_budget


# In[87]:


# Calculate the average (mean) math score
average_math_score = school_data_complete["math_score"].mean()
average_math_score


# In[88]:


# Calculate the average (mean) reading score
average_reading_score = school_data_complete["reading_score"].mean()
average_reading_score


# In[89]:


# Use the following to calculate the percentage of students who passed math (math scores greather than or equal to 70)
passing_math_count = school_data_complete[(school_data_complete["math_score"] >= 70)].count()["student_name"]
passing_math_percentage = passing_math_count / float(student_count) * 100
passing_math_percentage


# In[90]:


# Calculate the percentage of students who passeed reading (hint: look at how the math percentage was calculated)  
passing_reading_count = school_data_complete[(school_data_complete["reading_score"] >=70)].count()["student_name"]
passing_reading_percentage = passing_reading_count/float(student_count)*100
passing_reading_percentage


# In[91]:


# Use the following to calculate the percentage of students that passed math and reading
passing_math_reading_count = school_data_complete[
    (school_data_complete["math_score"] >= 70) & (school_data_complete["reading_score"] >= 70)
].count()["student_name"]
overall_passing_rate = passing_math_reading_count /  float(student_count) * 100
overall_passing_rate


# In[92]:


# Create a high-level snapshot of the district's key metrics in a DataFrame
district_summary = pd.DataFrame(
    {
        "Total Schools": [school_count],
        "Total Students": [student_count],
        "Total Budget": [total_budget],
        "Average Math Score":[average_math_score],
        "Average Reading Score":[average_reading_score],
        "Percent Passing Math":[passing_math_percentage],
        "Percent Passing Reading":[passing_reading_percentage],
        "Overall Passing Rate":[overall_passing_rate]
    }
)       
# Formatting
district_summary["Total Students"] = district_summary["Total Students"].map("{:,}".format)
district_summary["Total Budget"] = district_summary["Total Budget"].map("${:,.2f}".format)

# Display the DataFrame
district_summary


# In[93]:


#For this part, school_data_complete
school_data_complete["passing_math"] = school_data_complete["math_score"] >= 70
school_data_complete["passing_reading"] = school_data_complete["reading_score"] >= 70

school_data_complete


# ## School Summary

# In[94]:


# Use the code provided to select the school type
school_types = school_data.set_index(["school_name"])["type"]


# In[95]:


# Calculate the total student count
# use groupby to only return the values for each school together.  COnsider the student ID as a unique identifier for each student in case multiple students at a school have the same name.

per_school_counts = per_school_counts = school_data_complete.groupby(["school_name"]).count()["Student ID"]
per_school_counts
print (per_school_counts)


# In[96]:


# Calculate the total school budget and per capita spending
per_school_budget = school_data_complete.groupby(["school_name"]).mean()["budget"]
per_school_capita = per_school_budget / per_school_counts

per_school_budget
per_school_capita


# In[97]:


# Calculate the NUMBER OF SCHOOLS with math scores of 70 or higher
#school_passing_math = ((school_data_complete.groupby(["school_name"]).mean()["math_score"]) >= 70)
school_passing_math = school_data_complete[school_data_complete["math_score"]>=70]
school_passing_math

# The question asked for the # of schools with average of math scores over 70.  This is all 15 schools as shown in output from the prior block.  
# But when you look at the exampe starter code, the question is really asking for which students have math >=70 at any school.
# The output below shows a row for each student who has math >=70 at any school.


# In[98]:


# Calculate the NUMBER OF SCHOOLS with reading scores of 70 or higher
#school_passing_reading = ((school_data_complete.groupby(["school_name"]).mean()["reading_score"]) >= 70).count()
school_passing_reading = school_data_complete[school_data_complete["reading_score"]>=70]
school_passing_reading

# The question asked for the # of schools with average of reading scores over 70.  This is all 15 schools as shown in output from the block 2 steps above.  
# But when you look at the exampe starter code, the question is really asking for which students have reading >=70 at any school.
# The output below shows a row for each student who has reading >=70 at any school.


# In[99]:


# Use the provided code to calculate the schools that passed both math and reading with scores of 70 or higher
# this is actually the NUMBER OF STUDENTS who have scores of >=70 for both math and reading.  ALl schools had average math nda reading over 70 but that does not mean that all their studnets had scores over 70 for both math and reading.


passing_math_and_reading = school_data_complete[(school_data_complete["reading_score"] >= 70) & (school_data_complete["math_score"] >= 70)]
passing_math_and_reading


# The question asked for the # of schools with average of math and reading scores over 70.    
# But when you look at the exampe starter code, the question is really asking for which STUDENTS have math >=70 AND reading >=70 at ANY school.
# The output below shows a row for each student who has math >=70 AND reading >=70 at ANY school.


# In[100]:


# Use the provided code to calculate the passing rates
per_school_passing_math = school_passing_math.groupby(["school_name"]).count()["Student ID"] / per_school_counts * 100
per_school_passing_reading = school_passing_reading.groupby(["school_name"]).count()["Student ID"] / per_school_counts * 100
overall_passing_rate = passing_math_and_reading.groupby(["school_name"]).count()["Student ID"] / per_school_counts * 100

# if you do not write display in front of each statement, you only display and print out the last row's code, so heere that woudl be the overall passing rate
print ("Math Passing Rate - per school")
display (per_school_passing_math)
print ("---------------------------------------")
print ("Reading Passing Rate - per school")
display (per_school_passing_reading)
print ("---------------------------------------")
print ("Overall Passing Rate (Math >70 & Reading >=70) - per school")
display (overall_passing_rate)


# In[101]:


# Create a DataFrame called `per_school_summary` with columns for the calculations above.
per_school_summary = pd.DataFrame({"School Type": school_types,
                                 "Total Students": per_school_counts,
                                 "Total School Budget": per_school_budget,
                                 "Per Student Budget": per_school_capita,
                                 "Average Math Score": per_school_math,
                                 "Average Reading Score": per_school_reading,  
                                 "% Passing Math": per_school_passing_math,
                                 "% Passing Reading": per_school_passing_reading,
                                 "% Overall Passing": overall_passing_rate})

# Formatting
per_school_summary["Total School Budget"] = per_school_summary["Total School Budget"].map("${:,.2f}".format)
per_school_summary["Per Student Budget"] = per_school_summary["Per Student Budget"].map("${:,.2f}".format)

# Display the DataFrame
per_school_summary


# ## Highest-Performing Schools (by % Overall Passing)

# In[102]:


# Sort the schools by `% Overall Passing` in descending order and display the top 5 rows.
# There is only an ascending function, not descending.  So, use ascending is false in this code.
df=per_school_summary.sort_values(by=["% Overall Passing"], ascending=False, inplace=True) 
per_school_summary.head(5)


# ## Bottom Performing Schools (By % Overall Passing)

# In[103]:


# Sort the schools by `% Overall Passing` in ascending order and display the top 5 rows.
df=per_school_summary.sort_values(by=["% Overall Passing"], ascending=True, inplace=True) 
per_school_summary.head(5)


# ## Math Scores by Grade

# In[104]:


# Use the code provided to separate the data by grade
ninth_graders = school_data_complete[(school_data_complete["grade"] == "9th")]
tenth_graders = school_data_complete[(school_data_complete["grade"] == "10th")]
eleventh_graders = school_data_complete[(school_data_complete["grade"] == "11th")]
twelfth_graders = school_data_complete[(school_data_complete["grade"] == "12th")]

# Group by "school_name" and take the mean of each.
ninth_graders_scores = ninth_graders.groupby("school_name").mean()
tenth_graders_scores = tenth_graders.groupby("school_name").mean()
eleventh_graders_scores = eleventh_graders.groupby("school_name").mean()
twelfth_graders_scores = twelfth_graders.groupby("school_name").mean()


# Use the code to select only the `math_score`.
ninth_graders_math_scores = ninth_graders_scores["math_score"]
tenth_graders_math_scores = tenth_graders_scores["math_score"]
eleventh_graders_math_scores = eleventh_graders_scores["math_score"]
twelfth_graders_math_scores = twelfth_graders_scores["math_score"]

# Combine each of the scores above into single DataFrame called `math_scores_by_grade`
# use 1 for axis to concatonate in rows
math_scores_by_grade = pd.concat([ninth_graders_math_scores,tenth_graders_math_scores,eleventh_graders_math_scores,
                                  twelfth_graders_math_scores],axis = 1)

# Minor data wrangling
# Add column labels in the same order that the data were concatonated in the prior step
math_scores_by_grade.index.name = None
math_scores_by_grade.columns= [["9th", "10th", "11th", "12th"]]

# Display the DataFrame
print("Math scores per grade")
math_scores_by_grade


# ## Reading Score by Grade 

# In[105]:


# Use the code provided to separate the data by grade
ninth_graders = school_data_complete[(school_data_complete["grade"] == "9th")]
tenth_graders = school_data_complete[(school_data_complete["grade"] == "10th")]
eleventh_graders = school_data_complete[(school_data_complete["grade"] == "11th")]
twelfth_graders = school_data_complete[(school_data_complete["grade"] == "12th")]

# Group by "school_name" and take the mean of each.
ninth_graders_scores = ninth_graders.groupby("school_name").mean()
tenth_graders_scores = tenth_graders.groupby("school_name").mean()
eleventh_graders_scores = eleventh_graders.groupby("school_name").mean()
twelfth_graders_scores = twelfth_graders.groupby("school_name").mean()


# Use the code to select only the `reading_score`.
ninth_graders_reading_scores = ninth_graders_scores["reading_score"]
tenth_graders_reading_scores = tenth_graders_scores["reading_score"]
eleventh_graders_reading_scores = eleventh_graders_scores["reading_score"]
twelfth_graders_reading_scores = twelfth_graders_scores["reading_score"]

# Combine each of the scores above into single DataFrame called `reading_scores_by_grade`
# use 1 for axis to concatonate in rows
reading_scores_by_grade = pd.concat([ninth_graders_reading_scores,tenth_graders_reading_scores,eleventh_graders_reading_scores,
                                  twelfth_graders_reading_scores],axis = 1)

# Minor data wrangling
# Add column labels in the same order that the data were concatonated in the prior step
reading_scores_by_grade.index.name = None
reading_scores_by_grade.columns= [["9th", "10th", "11th", "12th"]]

# Display the DataFrame
print("Reading scores per grade")
reading_scores_by_grade


# ## Scores by School Spending

# In[106]:


# Establish the bins 
spending_bins = [0, 585, 630, 645, 680]
labels = ["<$585", "$585-630", "$630-645", "$645-680"]


# In[107]:


# Create a copy of the school summary since it has the "Per Student Budget" 
school_spending_df = per_school_summary.copy()


# In[108]:


# added the lamda here to move the dollar sign from the budget in the dataframe so number value only could be returned
school_spending_df["budget_values"] = school_spending_df["Per Student Budget"].apply(lambda x: float(x[1:]))

# Use `pd.cut` to categorize spending based on the bins.
school_spending_df["Spending Ranges (Per Student)"] = pd.cut(school_spending_df["budget_values"],spending_bins, labels=labels)
school_spending_df = school_spending_df.drop(["budget_values"], axis = 1)
school_spending_df.tail()


# In[109]:


#  Calculate averages for the desired columns. 
spending_math_scores = school_spending_df.groupby(["Spending Ranges (Per Student)"]).mean()["Average Math Score"]
spending_reading_scores = school_spending_df.groupby(["Spending Ranges (Per Student)"]).mean()["Average Reading Score"]
spending_passing_math = school_spending_df.groupby(["Spending Ranges (Per Student)"]).mean()["% Passing Math"]
spending_passing_reading = school_spending_df.groupby(["Spending Ranges (Per Student)"]).mean()["% Passing Reading"]
overall_passing_spending = school_spending_df.groupby(["Spending Ranges (Per Student)"]).mean()["% Overall Passing"]


# In[110]:


# Assemble into DataFrame
spending_summary = pd.concat([spending_math_scores,spending_reading_scores,spending_passing_math,spending_passing_reading,
                              overall_passing_spending], axis = 1)

# Display results
spending_summary


# ## Scores by School Size

# In[111]:


# Establish the bins.
size_bins = [0, 1000, 2000, 5000]
labels = ["Small (<1000)", "Medium (1000-2000)", "Large (2000-5000)"]


# In[112]:


# Categorize the spending based on the bins
# Use `pd.cut` on the "Total Students" column of the `per_school_summary` DataFrame.
per_school_summary["School Size"]=pd.cut(school_spending_df["Total Students"],size_bins,labels = labels)
display(per_school_summary.head())
display(per_school_summary.tail())


# In[113]:


# Calculate averages for the desired columns. 
size_math_scores = per_school_summary.groupby(["School Size"]).mean()["Average Math Score"]
size_reading_scores = per_school_summary.groupby(["School Size"]).mean()["Average Reading Score"]
size_passing_math = per_school_summary.groupby(["School Size"]).mean()["% Passing Math"]
size_passing_reading = per_school_summary.groupby(["School Size"]).mean()["% Passing Reading"]
size_overall_passing = per_school_summary.groupby(["School Size"]).mean()["% Overall Passing"]


# In[114]:


# Create a DataFrame called `size_summary` that breaks down school performance based on school size (small, medium, or large).
# Use the scores above to create a new DataFrame called `size_summary`
size_summary = pd.concat([size_math_scores,size_reading_scores,size_passing_math,size_passing_reading,
                          size_overall_passing], axis = 1)

# Display results
size_summary


# ## Scores by School Type

# In[115]:


# Group the per_school_summary DataFrame by "School Type" and average the results.
type_math_scores = per_school_summary.groupby(["School Type"]).mean()
type_reading_scores = per_school_summary.groupby(["School Type"]).mean()
type_passing_math = per_school_summary.groupby(["School Type"]).mean()
type_passing_reading = per_school_summary.groupby(["School Type"]).mean()
type_overall_passing = per_school_summary.groupby(["School Type"]).mean()

# Use the code provided to select new column data
average_math_score_by_type = type_math_scores["Average Math Score"]
average_reading_score_by_type = type_reading_scores["Average Reading Score"]
average_percent_passing_math_by_type = type_passing_math["% Passing Math"]
average_percent_passing_reading_by_type = type_passing_reading["% Passing Reading"]
average_percent_overall_passing_by_type = type_overall_passing["% Overall Passing"]


# In[116]:


# Assemble the new data by type into a DataFrame called `type_summary`
type_summary = pd.concat([average_math_score_by_type,average_reading_score_by_type,
                             average_percent_passing_math_by_type,average_percent_passing_reading_by_type,
                            average_percent_overall_passing_by_type], axis = 1)

# Display results
type_summary


# In[81]:


#print the output to a text file
output = open(file_to_output,"w")
print("PyCity_Schools_analysis",file=output)
print("----------------------------",file=output)
print("School Analysis Summary\n",file=output)
print("----------------------------",file=output)
print("\n\nDistrict Summary\n",district_summary,file=output) 
print("----------------------------",file=output)
print("\nPer School Summary\n",per_school_summary,file=output) 
print("----------------------------",file=output)
print("\nSpending Summary\n",spending_summary,file=output) 
print("----------------------------",file=output)
print("\nSize Summary\n",size_summary,file=output) 
print("----------------------------",file=output)
print("\nSchool Type Summary\n",type_summary,file=output) 
print("----------------------------",file=output)
print("----------------------------",file=output)
print("Conclusion 1: A higher percentage of students pass both math and reading in charter schools compared to district schools (90.3% vs 53.7%)",file=output)
print("Conclusion 2: Students in large schools have lower average math (77.7%) scores compared to students in small (83.8%) and medium (83.4%).",file=output)
print("Comparison: Students in large schools have lower percentage of students who pass both math and reading (58.29%) compaed to students in small (89.88%) or medium (90.62%)schools.",file=output)
print("----------------------------",file=output)
#output.close()

